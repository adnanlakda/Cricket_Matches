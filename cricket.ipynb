{
 "cells": [
  {
   "cell_type": "markdown",
   "id": "7a347ce7-d8fb-4ccf-9794-c5628339d442",
   "metadata": {},
   "source": [
    "## ODI Cricket Matches Dataset (1971 - 2023) Analysis"
   ]
  },
  {
   "cell_type": "code",
   "execution_count": null,
   "id": "f7302b2f-bb1e-4361-86da-04937bf37c08",
   "metadata": {},
   "outputs": [],
   "source": []
  },
  {
   "cell_type": "code",
   "execution_count": 24,
   "id": "0773b817-0d63-461b-8c98-ce4bcabce840",
   "metadata": {},
   "outputs": [],
   "source": [
    "import psycopg2\n",
    "import os\n",
    "import pandas as pd"
   ]
  },
  {
   "cell_type": "code",
   "execution_count": 16,
   "id": "5a0d7514-9f53-4b0b-8be6-b758dfe2b345",
   "metadata": {},
   "outputs": [],
   "source": [
    "# Set environment variable for password \n",
    "os.environ['DB_PASSWORD'] = '*********'\n",
    "\n",
    "conn = psycopg2.connect(host=\"localhost\", database=\"CricketProject\", user=\"postgres\", password=os.environ['DB_PASSWORD'])\n",
    "\n",
    "cur = conn.cursor()"
   ]
  },
  {
   "cell_type": "code",
   "execution_count": 17,
   "id": "e1f043c9-53dd-4cc1-b713-cfe0fdc6d86b",
   "metadata": {},
   "outputs": [
    {
     "name": "stdout",
     "output_type": "stream",
     "text": [
      "(64381, 1, 'Sri Lanka', 1810, 5, 17, 0, 0, Decimal('29.41'), True, 'l')\n",
      "(64357, 1, 'Pakistan', 1981, 35, 48, 2, 0, Decimal('72.91'), True, 'c')\n",
      "(65455, 1, 'Australia', 1922, 16, 30, 1, 0, Decimal('53.33'), True, 'c')\n",
      "(64381, 1, 'Sri Lanka', 1987, 6, 46, 0, 0, Decimal('13.04'), True, 'c')\n",
      "(64357, 1, 'Pakistan', 1750, 114, 123, 14, 0, Decimal('92.68'), True, 'r')\n",
      "(251495, 1, 'Australia', 2119, 24, 36, 5, 0, Decimal('66.66'), True, 'c')\n",
      "(65455, 1, 'Australia', 1793, 9, 25, 1, 0, Decimal('36'), True, 'c')\n",
      "(64555, 1, 'India', 1934, 1, 11, 0, 0, Decimal('9.09'), True, 'c')\n",
      "(64381, 1, 'Sri Lanka', 1789, 37, 56, 3, 0, Decimal('66.07'), True, 'c')\n",
      "(64357, 1, 'Pakistan', 1672, 65, 68, 5, 0, Decimal('95.58'), False, 'n')\n"
     ]
    }
   ],
   "source": [
    "cur.execute(\"SELECT * FROM batting LIMIT 10\")\n",
    "results = cur.fetchall()\n",
    "\n",
    "for row in results:\n",
    "    print(row)"
   ]
  },
  {
   "cell_type": "code",
   "execution_count": 21,
   "id": "e7071b14-f781-47d1-bd86-3e577bf9d3b4",
   "metadata": {},
   "outputs": [
    {
     "name": "stdout",
     "output_type": "stream",
     "text": [
      "      0   1          2     3    4    5   6   7      8     9  10\n",
      "0  64381   1  Sri Lanka  1810    5   17   0   0  29.41  True  l\n",
      "1  64357   1   Pakistan  1981   35   48   2   0  72.91  True  c\n",
      "2  65455   1  Australia  1922   16   30   1   0  53.33  True  c\n",
      "3  64381   1  Sri Lanka  1987    6   46   0   0  13.04  True  c\n",
      "4  64357   1   Pakistan  1750  114  123  14   0  92.68  True  r\n"
     ]
    }
   ],
   "source": [
    "cur.execute(\"SELECT * FROM batting LIMIT 5\")\n",
    "results = cur.fetchmany(5) \n",
    "\n",
    "df = pd.DataFrame(results)\n",
    "\n",
    "print(df)"
   ]
  },
  {
   "cell_type": "code",
   "execution_count": null,
   "id": "a41652e4-8d2e-41b7-8910-aea9f29919f9",
   "metadata": {},
   "outputs": [],
   "source": []
  },
  {
   "cell_type": "code",
   "execution_count": null,
   "id": "72562545-2ae5-48a0-81be-88ee4335a83a",
   "metadata": {},
   "outputs": [],
   "source": []
  },
  {
   "cell_type": "code",
   "execution_count": null,
   "id": "a296705d-5797-40a3-85e5-ffb47841cd08",
   "metadata": {},
   "outputs": [],
   "source": [
    "-- Whcih teams have won the most matches\n",
    "\n",
    "SELECT match_winner as team, COUNT(*) as number_of_wins\n",
    "FROM public.matches\n",
    "group by match_winner\n",
    "order by number_of_wins desc"
   ]
  },
  {
   "cell_type": "code",
   "execution_count": null,
   "id": "4485462b-a033-4b78-938c-7679d6bc9985",
   "metadata": {},
   "outputs": [],
   "source": []
  },
  {
   "cell_type": "code",
   "execution_count": null,
   "id": "25249da5-2940-44d3-9350-dc377073269f",
   "metadata": {},
   "outputs": [],
   "source": [
    "-- Winning percentage by team\n",
    "\n",
    "with cte as (\n",
    "SELECT match_winner as team, COUNT(*) as number_of_wins\n",
    "FROM public.matches\n",
    "group by match_winner\n",
    "order by number_of_wins desc),\n",
    "\n",
    "total_matches as (\n",
    "SELECT team1_name AS teams\n",
    "FROM public.matches\n",
    "UNION ALL \n",
    "SELECT team2_name AS teams\n",
    "FROM public.matches),\n",
    "\n",
    "total as (\n",
    "SELECT teams, count(*) as matches_played\n",
    "FROM total_matches\n",
    "group by teams)\n",
    "\n",
    "select cte.team, cte.number_of_wins / total.matches_played :: float * 100 AS winning_percetage\n",
    "from cte\n",
    "join total \n",
    "\tON cte.team = total.teams\n",
    "ORDER BY winning_percetage DESC;"
   ]
  },
  {
   "cell_type": "code",
   "execution_count": null,
   "id": "030cf29a-fd90-4dcb-a848-17ad215f1c13",
   "metadata": {},
   "outputs": [],
   "source": []
  },
  {
   "cell_type": "code",
   "execution_count": null,
   "id": "9266d454-bdc9-497b-97b9-cabc780b1f24",
   "metadata": {},
   "outputs": [],
   "source": [
    "-- Players with the highest economy\n",
    "\n",
    "SELECT p.player_name, AVG(b.economy) as avg_economy, count(*) as innings, sum(b.overs) as total_overs\n",
    "FROM public.bowling as b\n",
    "JOIN public.players as p\n",
    "ON p.player_id = b.name\n",
    "group by p.player_name\n",
    "order by avg_economy desc"
   ]
  },
  {
   "cell_type": "code",
   "execution_count": null,
   "id": "aacfb0ae-ddc3-40fd-8ed7-c8fc0070d818",
   "metadata": {},
   "outputs": [],
   "source": []
  },
  {
   "cell_type": "code",
   "execution_count": null,
   "id": "b057fd6b-b790-40e4-9190-785250429b2d",
   "metadata": {},
   "outputs": [],
   "source": [
    "-- Players with the lowest economy\n",
    "\n",
    "SELECT p.player_name, AVG(b.economy) as avg_economy, count(*) as innings, sum(b.overs) as total_overs\n",
    "FROM public.bowling as b\n",
    "JOIN public.players as p\n",
    "ON p.player_id = b.name\n",
    "group by p.player_name\n",
    "order by avg_economy asc;"
   ]
  },
  {
   "cell_type": "code",
   "execution_count": null,
   "id": "82c80a96-0252-4628-969c-e672aa4d4a3e",
   "metadata": {},
   "outputs": [],
   "source": []
  },
  {
   "cell_type": "code",
   "execution_count": null,
   "id": "bba163f0-0161-4425-8a67-c2e1548392df",
   "metadata": {},
   "outputs": [],
   "source": [
    "-- bowlers with most wickets \n",
    "\n",
    "SELECT  p.player_name, sum(b.wickets) as total_wickets, b.team\n",
    "FROM public.bowling as b\n",
    "JOIN public.players as p\n",
    "ON p.player_id = b.name\n",
    "group by p.player_name, b.team\n",
    "order by total_wickets desc"
   ]
  },
  {
   "cell_type": "code",
   "execution_count": null,
   "id": "b8b5bb55-6321-43d1-b8d3-14cdd8102eb4",
   "metadata": {},
   "outputs": [],
   "source": []
  },
  {
   "cell_type": "code",
   "execution_count": null,
   "id": "03819b31-7d49-45ed-9385-be670fab2668",
   "metadata": {},
   "outputs": [],
   "source": [
    "-- Players with the most runs scored\n",
    "\n",
    "SELECT p.player_name, ba.team, SUM(ba.runs) as total_runs\n",
    "FROM public.batting as ba\n",
    "JOIN public.players as p\n",
    "ON p.player_id = ba.batsman\n",
    "group by p.player_name, ba.team\n",
    "ORDER BY total_runs DESC;"
   ]
  },
  {
   "cell_type": "code",
   "execution_count": null,
   "id": "3811e2af-8ab4-4191-91df-4a5bf0973085",
   "metadata": {},
   "outputs": [],
   "source": []
  },
  {
   "cell_type": "code",
   "execution_count": null,
   "id": "8e0ebe60-d226-4869-8d0f-86f9b497fd53",
   "metadata": {},
   "outputs": [],
   "source": [
    "-- Players with the most runs conceded\n",
    "SELECT p.player_name, b.team, SUM(b.conceded) as total_runs_conceded\n",
    "FROM public.bowling as b\n",
    "JOIN public.players as p\n",
    "ON p.player_id = b.name\n",
    "group by p.player_name, b.team\n",
    "ORDER BY total_runs_conceded DESC"
   ]
  },
  {
   "cell_type": "code",
   "execution_count": null,
   "id": "a467ec69-41ef-4b4d-afde-bb959beb81b0",
   "metadata": {},
   "outputs": [],
   "source": []
  },
  {
   "cell_type": "code",
   "execution_count": null,
   "id": "d4e1d9b2-fa61-4ab1-9559-ead1e62f6c05",
   "metadata": {},
   "outputs": [],
   "source": [
    "-- Team captain with the most wins\n",
    "with one as (\n",
    "SELECT m.match_id,\n",
    "CASE WHEN m.match_winner = m.team1_name THEN team1_captain END as ca\n",
    "FROM public.matches as m),\n",
    "\n",
    "two as (\n",
    "SELECT m.match_id,\n",
    "CASE WHEN m.match_winner = m.team2_name THEN team2_captain END as ca2\n",
    "FROM public.matches as m),\n",
    "\n",
    "three as (\n",
    "SELECT one.match_id, COALESCE(ca,ca2) as captain\n",
    "FROM one \n",
    "JOIN two \n",
    "ON one.match_id = two.match_id),\n",
    "\n",
    "four as (\n",
    "SELECT captain, p.player_name\n",
    "FROM three\n",
    "JOIN public.players as p\n",
    "ON p.player_id = three.captain)\n",
    "\n",
    "SELECT player_name, COUNT(*) AS wins_as_captain\n",
    "FROM four\n",
    "GROUP BY player_name\n",
    "ORDER BY COUNT(*) DESC"
   ]
  },
  {
   "cell_type": "code",
   "execution_count": null,
   "id": "f72f345d-cbd6-40b2-acb6-3046a53a5ca9",
   "metadata": {},
   "outputs": [],
   "source": []
  },
  {
   "cell_type": "code",
   "execution_count": null,
   "id": "b86abe42-6d30-4430-894d-a653a08c0887",
   "metadata": {},
   "outputs": [],
   "source": []
  }
 ],
 "metadata": {
  "kernelspec": {
   "display_name": "Python 3 (ipykernel)",
   "language": "python",
   "name": "python3"
  },
  "language_info": {
   "codemirror_mode": {
    "name": "ipython",
    "version": 3
   },
   "file_extension": ".py",
   "mimetype": "text/x-python",
   "name": "python",
   "nbconvert_exporter": "python",
   "pygments_lexer": "ipython3",
   "version": "3.9.12"
  }
 },
 "nbformat": 4,
 "nbformat_minor": 5
}
